{
 "cells": [
  {
   "cell_type": "code",
   "execution_count": 1,
   "metadata": {},
   "outputs": [],
   "source": [
    "#importing libraries\n",
    "import pandas as pd\n",
    "import mysql.connector\n",
    "import numpy as np"
   ]
  },
  {
   "cell_type": "code",
   "execution_count": 2,
   "metadata": {},
   "outputs": [
    {
     "name": "stdout",
     "output_type": "stream",
     "text": [
      "Requirement already satisfied: mysql-connector-python in c:\\users\\user\\anaconda3\\lib\\site-packages (9.0.0)\n",
      "Note: you may need to restart the kernel to use updated packages.\n"
     ]
    }
   ],
   "source": [
    "%pip install mysql-connector-python"
   ]
  },
  {
   "cell_type": "code",
   "execution_count": 3,
   "metadata": {},
   "outputs": [
    {
     "data": {
      "text/html": [
       "<div>\n",
       "<style scoped>\n",
       "    .dataframe tbody tr th:only-of-type {\n",
       "        vertical-align: middle;\n",
       "    }\n",
       "\n",
       "    .dataframe tbody tr th {\n",
       "        vertical-align: top;\n",
       "    }\n",
       "\n",
       "    .dataframe thead th {\n",
       "        text-align: right;\n",
       "    }\n",
       "</style>\n",
       "<table border=\"1\" class=\"dataframe\">\n",
       "  <thead>\n",
       "    <tr style=\"text-align: right;\">\n",
       "      <th></th>\n",
       "      <th>Bus_name</th>\n",
       "      <th>Bus_type</th>\n",
       "      <th>Start_time</th>\n",
       "      <th>End_time</th>\n",
       "      <th>Total_duration</th>\n",
       "      <th>Price</th>\n",
       "      <th>Seats_Available</th>\n",
       "      <th>Ratings</th>\n",
       "      <th>Route_link</th>\n",
       "      <th>Route_name</th>\n",
       "    </tr>\n",
       "  </thead>\n",
       "  <tbody>\n",
       "    <tr>\n",
       "      <th>0</th>\n",
       "      <td>BLUE HILL TRAVELS INDIA LIMITED</td>\n",
       "      <td>NON A/C Seater Semi Sleeper (2+1)</td>\n",
       "      <td>21:30</td>\n",
       "      <td>03:30</td>\n",
       "      <td>06h 00m</td>\n",
       "      <td>INR 400</td>\n",
       "      <td>5 Seats available</td>\n",
       "      <td>3.1\\n100</td>\n",
       "      <td>https://www.redbus.in/bus-tickets/tezpur-to-gu...</td>\n",
       "      <td>Tezpur to Guwahati</td>\n",
       "    </tr>\n",
       "    <tr>\n",
       "      <th>1</th>\n",
       "      <td>Himalayan Travels</td>\n",
       "      <td>NON AC Seater / Sleeper 2+1</td>\n",
       "      <td>23:40</td>\n",
       "      <td>04:00</td>\n",
       "      <td>04h 20m</td>\n",
       "      <td>450</td>\n",
       "      <td>23 Seats available</td>\n",
       "      <td>2.2\\n7</td>\n",
       "      <td>https://www.redbus.in/bus-tickets/tezpur-to-gu...</td>\n",
       "      <td>Tezpur to Guwahati</td>\n",
       "    </tr>\n",
       "    <tr>\n",
       "      <th>2</th>\n",
       "      <td>DESTINY TRAVELS</td>\n",
       "      <td>NON A/C Seater (2+1)</td>\n",
       "      <td>23:45</td>\n",
       "      <td>03:45</td>\n",
       "      <td>04h 00m</td>\n",
       "      <td>399</td>\n",
       "      <td>22 Seats available</td>\n",
       "      <td>1.8</td>\n",
       "      <td>https://www.redbus.in/bus-tickets/tezpur-to-gu...</td>\n",
       "      <td>Tezpur to Guwahati</td>\n",
       "    </tr>\n",
       "    <tr>\n",
       "      <th>3</th>\n",
       "      <td>BLUE HILL TRAVELS INDIA LIMITED</td>\n",
       "      <td>NON A/C Seater Semi Sleeper (2+1)</td>\n",
       "      <td>22:15</td>\n",
       "      <td>03:45</td>\n",
       "      <td>05h 30m</td>\n",
       "      <td>INR 550</td>\n",
       "      <td>15 Seats available</td>\n",
       "      <td>3.7\\n28</td>\n",
       "      <td>https://www.redbus.in/bus-tickets/tezpur-to-gu...</td>\n",
       "      <td>Tezpur to Guwahati</td>\n",
       "    </tr>\n",
       "    <tr>\n",
       "      <th>4</th>\n",
       "      <td>Yatra Travels</td>\n",
       "      <td>NON A/C Seater (2+1)</td>\n",
       "      <td>18:00</td>\n",
       "      <td>23:30</td>\n",
       "      <td>05h 30m</td>\n",
       "      <td>400</td>\n",
       "      <td>8 Seats available</td>\n",
       "      <td>3.3\\n21</td>\n",
       "      <td>https://www.redbus.in/bus-tickets/guwahati-to-...</td>\n",
       "      <td>Guwahati to Tezpur</td>\n",
       "    </tr>\n",
       "    <tr>\n",
       "      <th>...</th>\n",
       "      <td>...</td>\n",
       "      <td>...</td>\n",
       "      <td>...</td>\n",
       "      <td>...</td>\n",
       "      <td>...</td>\n",
       "      <td>...</td>\n",
       "      <td>...</td>\n",
       "      <td>...</td>\n",
       "      <td>...</td>\n",
       "      <td>...</td>\n",
       "    </tr>\n",
       "    <tr>\n",
       "      <th>1200</th>\n",
       "      <td>RSRTC - 182762</td>\n",
       "      <td>Express Non AC Seater 2+3</td>\n",
       "      <td>21:55</td>\n",
       "      <td>02:45</td>\n",
       "      <td>04h 50m</td>\n",
       "      <td>INR 231</td>\n",
       "      <td>42 Seats available</td>\n",
       "      <td>4.2</td>\n",
       "      <td>https://www.redbus.in/bus-tickets/bikaner-to-s...</td>\n",
       "      <td>Bikaner to Sikar</td>\n",
       "    </tr>\n",
       "    <tr>\n",
       "      <th>1201</th>\n",
       "      <td>Neelam Travels</td>\n",
       "      <td>A/C Seater / Sleeper (2+1)</td>\n",
       "      <td>18:30</td>\n",
       "      <td>23:00</td>\n",
       "      <td>04h 30m</td>\n",
       "      <td>INR 400</td>\n",
       "      <td>27 Seats available</td>\n",
       "      <td>3.5</td>\n",
       "      <td>https://www.redbus.in/bus-tickets/bikaner-to-s...</td>\n",
       "      <td>Bikaner to Sikar</td>\n",
       "    </tr>\n",
       "    <tr>\n",
       "      <th>1202</th>\n",
       "      <td>Milan Travels</td>\n",
       "      <td>Bharat Benz A/C Seater /Sleeper (2+1)</td>\n",
       "      <td>19:15</td>\n",
       "      <td>22:30</td>\n",
       "      <td>03h 15m</td>\n",
       "      <td>440</td>\n",
       "      <td>31 Seats available</td>\n",
       "      <td>4.6\\n11</td>\n",
       "      <td>https://www.redbus.in/bus-tickets/bikaner-to-s...</td>\n",
       "      <td>Bikaner to Sikar</td>\n",
       "    </tr>\n",
       "    <tr>\n",
       "      <th>1203</th>\n",
       "      <td>Nandu V.K. Travels</td>\n",
       "      <td>NON A/C Sleeper (2+1)</td>\n",
       "      <td>19:30</td>\n",
       "      <td>23:45</td>\n",
       "      <td>04h 15m</td>\n",
       "      <td>INR 600</td>\n",
       "      <td>10 Seats available</td>\n",
       "      <td>3.2</td>\n",
       "      <td>https://www.redbus.in/bus-tickets/bikaner-to-s...</td>\n",
       "      <td>Bikaner to Sikar</td>\n",
       "    </tr>\n",
       "    <tr>\n",
       "      <th>1204</th>\n",
       "      <td>Maharaja Travels</td>\n",
       "      <td>NaN</td>\n",
       "      <td>22:30</td>\n",
       "      <td>02:45</td>\n",
       "      <td>04h 15m</td>\n",
       "      <td>NaN</td>\n",
       "      <td>NaN</td>\n",
       "      <td>3.1</td>\n",
       "      <td>https://www.redbus.in/bus-tickets/bikaner-to-s...</td>\n",
       "      <td>Bikaner to Sikar</td>\n",
       "    </tr>\n",
       "  </tbody>\n",
       "</table>\n",
       "<p>1205 rows × 10 columns</p>\n",
       "</div>"
      ],
      "text/plain": [
       "                             Bus_name                               Bus_type  \\\n",
       "0     BLUE HILL TRAVELS INDIA LIMITED      NON A/C Seater Semi Sleeper (2+1)   \n",
       "1                   Himalayan Travels            NON AC Seater / Sleeper 2+1   \n",
       "2                     DESTINY TRAVELS                   NON A/C Seater (2+1)   \n",
       "3     BLUE HILL TRAVELS INDIA LIMITED      NON A/C Seater Semi Sleeper (2+1)   \n",
       "4                       Yatra Travels                   NON A/C Seater (2+1)   \n",
       "...                               ...                                    ...   \n",
       "1200                   RSRTC - 182762              Express Non AC Seater 2+3   \n",
       "1201                   Neelam Travels             A/C Seater / Sleeper (2+1)   \n",
       "1202                    Milan Travels  Bharat Benz A/C Seater /Sleeper (2+1)   \n",
       "1203               Nandu V.K. Travels                  NON A/C Sleeper (2+1)   \n",
       "1204                 Maharaja Travels                                    NaN   \n",
       "\n",
       "     Start_time End_time Total_duration    Price     Seats_Available  \\\n",
       "0         21:30    03:30        06h 00m  INR 400   5 Seats available   \n",
       "1         23:40    04:00        04h 20m      450  23 Seats available   \n",
       "2         23:45    03:45        04h 00m      399  22 Seats available   \n",
       "3         22:15    03:45        05h 30m  INR 550  15 Seats available   \n",
       "4         18:00    23:30        05h 30m      400   8 Seats available   \n",
       "...         ...      ...            ...      ...                 ...   \n",
       "1200      21:55    02:45        04h 50m  INR 231  42 Seats available   \n",
       "1201      18:30    23:00        04h 30m  INR 400  27 Seats available   \n",
       "1202      19:15    22:30        03h 15m      440  31 Seats available   \n",
       "1203      19:30    23:45        04h 15m  INR 600  10 Seats available   \n",
       "1204      22:30    02:45        04h 15m      NaN                 NaN   \n",
       "\n",
       "       Ratings                                         Route_link  \\\n",
       "0     3.1\\n100  https://www.redbus.in/bus-tickets/tezpur-to-gu...   \n",
       "1       2.2\\n7  https://www.redbus.in/bus-tickets/tezpur-to-gu...   \n",
       "2          1.8  https://www.redbus.in/bus-tickets/tezpur-to-gu...   \n",
       "3      3.7\\n28  https://www.redbus.in/bus-tickets/tezpur-to-gu...   \n",
       "4      3.3\\n21  https://www.redbus.in/bus-tickets/guwahati-to-...   \n",
       "...        ...                                                ...   \n",
       "1200       4.2  https://www.redbus.in/bus-tickets/bikaner-to-s...   \n",
       "1201       3.5  https://www.redbus.in/bus-tickets/bikaner-to-s...   \n",
       "1202   4.6\\n11  https://www.redbus.in/bus-tickets/bikaner-to-s...   \n",
       "1203       3.2  https://www.redbus.in/bus-tickets/bikaner-to-s...   \n",
       "1204       3.1  https://www.redbus.in/bus-tickets/bikaner-to-s...   \n",
       "\n",
       "              Route_name  \n",
       "0     Tezpur to Guwahati  \n",
       "1     Tezpur to Guwahati  \n",
       "2     Tezpur to Guwahati  \n",
       "3     Tezpur to Guwahati  \n",
       "4     Guwahati to Tezpur  \n",
       "...                  ...  \n",
       "1200    Bikaner to Sikar  \n",
       "1201    Bikaner to Sikar  \n",
       "1202    Bikaner to Sikar  \n",
       "1203    Bikaner to Sikar  \n",
       "1204    Bikaner to Sikar  \n",
       "\n",
       "[1205 rows x 10 columns]"
      ]
     },
     "execution_count": 3,
     "metadata": {},
     "output_type": "execute_result"
    }
   ],
   "source": [
    "# csv to dataframe\n",
    "df_k=pd.read_csv(\"kerala_busdetails.csv\")\n",
    "df_wb=pd.read_csv(\"wbengal_busdetails.csv\")\n",
    "df_b=pd.read_csv(\"bihar_busdetails.csv\")\n",
    "df_r=pd.read_csv(\"rajas_busdetails.csv\")\n",
    "df_t=pd.read_csv(\"tele_busdetails.csv\")\n",
    "df_up=pd.read_csv(\"up_busdetails.csv\")\n",
    "df_p=pd.read_csv(\"punjab_busdetails.csv\")\n",
    "df_a=pd.read_csv(\"assam_busdetails.csv\")\n",
    "df_ap=pd.read_csv(\"andhra_busdetails.csv\")\n",
    "df_g=pd.read_csv(\"goa_busdetails.csv\")\n",
    "df_full1=pd.concat([df_a,df_up,df_ap,df_b,df_g,df_k,df_p,df_wb,df_t,df_r],ignore_index=True)\n",
    "df_full1"
   ]
  },
  {
   "cell_type": "markdown",
   "metadata": {},
   "source": [
    "Data cleaning"
   ]
  },
  {
   "cell_type": "code",
   "execution_count": 21,
   "metadata": {},
   "outputs": [
    {
     "data": {
      "text/plain": [
       "Index(['Bus_name', 'Bus_type', 'Start_time', 'End_time', 'Total_duration',\n",
       "       'Price', 'Seats_Available', 'Ratings', 'Route_link', 'Route_name'],\n",
       "      dtype='object')"
      ]
     },
     "execution_count": 21,
     "metadata": {},
     "output_type": "execute_result"
    }
   ],
   "source": [
    "df_full1.columns"
   ]
  },
  {
   "cell_type": "code",
   "execution_count": 22,
   "metadata": {},
   "outputs": [
    {
     "name": "stdout",
     "output_type": "stream",
     "text": [
      "<class 'pandas.core.frame.DataFrame'>\n",
      "RangeIndex: 1205 entries, 0 to 1204\n",
      "Data columns (total 10 columns):\n",
      " #   Column           Non-Null Count  Dtype \n",
      "---  ------           --------------  ----- \n",
      " 0   Bus_name         904 non-null    object\n",
      " 1   Bus_type         876 non-null    object\n",
      " 2   Start_time       904 non-null    object\n",
      " 3   End_time         904 non-null    object\n",
      " 4   Total_duration   904 non-null    object\n",
      " 5   Price            897 non-null    object\n",
      " 6   Seats_Available  892 non-null    object\n",
      " 7   Ratings          902 non-null    object\n",
      " 8   Route_link       1205 non-null   object\n",
      " 9   Route_name       1205 non-null   object\n",
      "dtypes: object(10)\n",
      "memory usage: 94.3+ KB\n"
     ]
    }
   ],
   "source": [
    "# data about the data\n",
    "df_full1.info()"
   ]
  },
  {
   "cell_type": "code",
   "execution_count": 5,
   "metadata": {},
   "outputs": [
    {
     "data": {
      "text/plain": [
       "Bus_name           301\n",
       "Bus_type           329\n",
       "Start_time         301\n",
       "End_time           301\n",
       "Total_duration     301\n",
       "Price              308\n",
       "Seats_Available    313\n",
       "Ratings            303\n",
       "Route_link           0\n",
       "Route_name           0\n",
       "dtype: int64"
      ]
     },
     "execution_count": 5,
     "metadata": {},
     "output_type": "execute_result"
    }
   ],
   "source": [
    "# to display null values in columns\n",
    "df_full1.isnull().sum()"
   ]
  },
  {
   "cell_type": "code",
   "execution_count": 6,
   "metadata": {},
   "outputs": [
    {
     "data": {
      "text/plain": [
       "0       INR 400\n",
       "1           450\n",
       "2           399\n",
       "3       INR 550\n",
       "4           400\n",
       "         ...   \n",
       "1200    INR 231\n",
       "1201    INR 400\n",
       "1202        440\n",
       "1203    INR 600\n",
       "1204        NaN\n",
       "Name: Price, Length: 1205, dtype: object"
      ]
     },
     "execution_count": 6,
     "metadata": {},
     "output_type": "execute_result"
    }
   ],
   "source": [
    "df_full1[\"Price\"]"
   ]
  },
  {
   "cell_type": "code",
   "execution_count": 7,
   "metadata": {},
   "outputs": [
    {
     "data": {
      "text/plain": [
       "0       400.0\n",
       "1       450.0\n",
       "2       399.0\n",
       "3       550.0\n",
       "4       400.0\n",
       "        ...  \n",
       "1200    231.0\n",
       "1201    400.0\n",
       "1202    440.0\n",
       "1203    600.0\n",
       "1204      0.0\n",
       "Name: Price, Length: 1205, dtype: float64"
      ]
     },
     "execution_count": 7,
     "metadata": {},
     "output_type": "execute_result"
    }
   ],
   "source": [
    "#convert prices to numeric\n",
    "# remove  INR \n",
    "# fill null values with 0\n",
    "df_full1[\"Price\"]=df_full1[\"Price\"].str.replace(\"INR\",\"\")\n",
    "df_full1[\"Price\"]=df_full1[\"Price\"].astype(float)\n",
    "df_full1[\"Price\"].fillna(0) \n"
   ]
  },
  {
   "cell_type": "code",
   "execution_count": 8,
   "metadata": {},
   "outputs": [
    {
     "data": {
      "text/plain": [
       "0       3.1\\n100\n",
       "1         2.2\\n7\n",
       "2            1.8\n",
       "3        3.7\\n28\n",
       "4        3.3\\n21\n",
       "          ...   \n",
       "1200         4.2\n",
       "1201         3.5\n",
       "1202     4.6\\n11\n",
       "1203         3.2\n",
       "1204         3.1\n",
       "Name: Ratings, Length: 1205, dtype: object"
      ]
     },
     "execution_count": 8,
     "metadata": {},
     "output_type": "execute_result"
    }
   ],
   "source": [
    "df_full1[\"Ratings\"]"
   ]
  },
  {
   "cell_type": "code",
   "execution_count": 9,
   "metadata": {},
   "outputs": [
    {
     "data": {
      "text/plain": [
       "0       3.1\n",
       "1       2.2\n",
       "2       1.8\n",
       "3       3.7\n",
       "4       3.3\n",
       "       ... \n",
       "1200    4.2\n",
       "1201    3.5\n",
       "1202    4.6\n",
       "1203    3.2\n",
       "1204    3.1\n",
       "Name: Ratings, Length: 1205, dtype: float64"
      ]
     },
     "execution_count": 9,
     "metadata": {},
     "output_type": "execute_result"
    }
   ],
   "source": [
    "#convert Ratings to numeric\n",
    "df_full1[\"Ratings\"]=df_full1[\"Ratings\"].str.replace(\"New\",\"\")\n",
    "df_full1[\"Ratings\"]=df_full1[\"Ratings\"].str.strip()\n",
    "df_full1[\"Ratings\"]=df_full1[\"Ratings\"].str.split().str[0]\n",
    "df_full1[\"Ratings\"] = pd.to_numeric(df_full1[\"Ratings\"], errors='coerce') #  invalid parsing will be set as NaN \n",
    "df_full1[\"Ratings\"].fillna(0,inplace=True) \n",
    "df_full1[\"Ratings\"]"
   ]
  },
  {
   "cell_type": "code",
   "execution_count": 12,
   "metadata": {},
   "outputs": [
    {
     "name": "stdout",
     "output_type": "stream",
     "text": [
      "<class 'pandas.core.frame.DataFrame'>\n",
      "RangeIndex: 1205 entries, 0 to 1204\n",
      "Data columns (total 10 columns):\n",
      " #   Column           Non-Null Count  Dtype  \n",
      "---  ------           --------------  -----  \n",
      " 0   Bus_name         904 non-null    object \n",
      " 1   Bus_type         876 non-null    object \n",
      " 2   Start_time       904 non-null    object \n",
      " 3   End_time         904 non-null    object \n",
      " 4   Total_duration   904 non-null    object \n",
      " 5   Price            897 non-null    float64\n",
      " 6   Seats_Available  892 non-null    object \n",
      " 7   Ratings          1205 non-null   float64\n",
      " 8   Route_link       1205 non-null   object \n",
      " 9   Route_name       1205 non-null   object \n",
      "dtypes: float64(2), object(8)\n",
      "memory usage: 94.3+ KB\n"
     ]
    }
   ],
   "source": [
    "# info after the data type change\n",
    "df_full1.info()"
   ]
  },
  {
   "cell_type": "code",
   "execution_count": 20,
   "metadata": {},
   "outputs": [],
   "source": [
    "df_full1.fillna(0,inplace=True)"
   ]
  },
  {
   "cell_type": "code",
   "execution_count": 21,
   "metadata": {},
   "outputs": [
    {
     "data": {
      "text/plain": [
       "Bus_name           0\n",
       "Bus_type           0\n",
       "Start_time         0\n",
       "End_time           0\n",
       "Total_duration     0\n",
       "Price              0\n",
       "Seats_Available    0\n",
       "Ratings            0\n",
       "Route_link         0\n",
       "Route_name         0\n",
       "dtype: int64"
      ]
     },
     "execution_count": 21,
     "metadata": {},
     "output_type": "execute_result"
    }
   ],
   "source": [
    "df_full1.isnull().sum()"
   ]
  },
  {
   "cell_type": "code",
   "execution_count": 22,
   "metadata": {},
   "outputs": [],
   "source": [
    "# change dataframe to csv\n",
    "path=r\"D:/Redbus/complete_busdetails_clean.csv\"\n",
    "df_full1.to_csv(path,index=False)"
   ]
  },
  {
   "cell_type": "markdown",
   "metadata": {},
   "source": [
    "# Create a mysql database"
   ]
  },
  {
   "cell_type": "code",
   "execution_count": 13,
   "metadata": {},
   "outputs": [],
   "source": [
    "#sql connection\n",
    "conn=mysql.connector.connect(host=\"localhost\", user=\"root\", password=\"root\",database=\"redbus\")\n",
    "my_cursor = conn.cursor()\n",
    "my_cursor.execute(\"CREATE DATABASE IF NOT EXISTS redbus\")"
   ]
  },
  {
   "cell_type": "code",
   "execution_count": 17,
   "metadata": {},
   "outputs": [
    {
     "name": "stdout",
     "output_type": "stream",
     "text": [
      "MySQL Table Created in redbus Database successfully\n"
     ]
    }
   ],
   "source": [
    "# Table Creation\n",
    "my_cursor.execute('''CREATE TABLE IF NOT EXISTS bus_details2(\n",
    "                  ID INT AUTO_INCREMENT PRIMARY KEY,\n",
    "                  Bus_name VARCHAR(255) NOT NULL,\n",
    "                  Bus_type VARCHAR(255) NOT NULL,\n",
    "                  Start_time VARCHAR(255) NOT NULL,\n",
    "                  End_time VARCHAR(255) NOT NULL,\n",
    "                  Total_duration VARCHAR(255) NOT NULL,\n",
    "                  Price FLOAT NULL,\n",
    "                  Seats_Available VARCHAR(255) NOT NULL,\n",
    "                  Ratings Float NULL,\n",
    "                  Route_link VARCHAR(255) NULL,\n",
    "                  Route_name VARCHAR(255) NULL\n",
    "                  )''')\n",
    "print(\"MySQL Table Created in redbus Database successfully\")"
   ]
  }
 ],
 "metadata": {
  "kernelspec": {
   "display_name": "Python 3",
   "language": "python",
   "name": "python3"
  },
  "language_info": {
   "codemirror_mode": {
    "name": "ipython",
    "version": 3
   },
   "file_extension": ".py",
   "mimetype": "text/x-python",
   "name": "python",
   "nbconvert_exporter": "python",
   "pygments_lexer": "ipython3",
   "version": "3.12.4"
  }
 },
 "nbformat": 4,
 "nbformat_minor": 2
}
